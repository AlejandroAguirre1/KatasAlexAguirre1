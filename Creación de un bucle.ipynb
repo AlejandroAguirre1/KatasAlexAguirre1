{
 "cells": [
  {
   "cell_type": "code",
   "execution_count": null,
   "id": "ead4687c",
   "metadata": {},
   "outputs": [
    {
     "name": "stdout",
     "output_type": "stream",
     "text": [
      "Enter a new planet Mars\n",
      "Enter a new planet Jupiter\n",
      "Enter a new planet earth\n",
      "Enter a new planet venus\n",
      "Enter a new planet 1\n",
      "Enter a new planet 2\n",
      "Enter a new planet 3\n",
      "Enter a new planet 4\n",
      "Enter a new planet 5\n",
      "Enter a new planet 5\n",
      "Enter a new planet 6\n",
      "Enter a new planet 7\n",
      "Enter a new planet 8\n",
      "Enter a new planet 8\n"
     ]
    }
   ],
   "source": [
    "# Declara doa variables\n",
    "# Escribe el ciclo while solicitado\n",
    "# Escribe tu ciclo for para iterar en una lista de planetas\n",
    "\n",
    "new_planet = \"\"\n",
    "planets = []\n",
    "\n",
    "while new_planet.lower() != 'done':\n",
    "    if new_planet:\n",
    "        planets.append(new_planet)\n",
    "    new_planet = input('Enter a new planet ')\n",
    "for planet in planets:\n",
    " print(planet)"
   ]
  },
  {
   "cell_type": "code",
   "execution_count": null,
   "id": "954c0864",
   "metadata": {},
   "outputs": [],
   "source": []
  }
 ],
 "metadata": {
  "kernelspec": {
   "display_name": "Python 3 (ipykernel)",
   "language": "python",
   "name": "python3"
  },
  "language_info": {
   "codemirror_mode": {
    "name": "ipython",
    "version": 3
   },
   "file_extension": ".py",
   "mimetype": "text/x-python",
   "name": "python",
   "nbconvert_exporter": "python",
   "pygments_lexer": "ipython3",
   "version": "3.9.7"
  }
 },
 "nbformat": 4,
 "nbformat_minor": 5
}
